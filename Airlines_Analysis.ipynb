{
 "cells": [
  {
   "cell_type": "markdown",
   "metadata": {},
   "source": [
    "* The project Airline Analysis comprises of various Data Frame Operations, such as reading, filtering, aggregations, sorting, joining, windowing functions, writing etc.\n",
    "* This project is  based on 2 datasets namely, airlines flights' details data and airport codes data. The datasets are in huge volume hence, best suited to be a use case for spark application.\n",
    "* The project demonstrates, various data frame operations in form of solutions to different problem scenarios, output of which could be used in futher analysis or future predictions."
   ]
  },
  {
   "cell_type": "markdown",
   "metadata": {},
   "source": [
    "#### Creating Spark Session"
   ]
  },
  {
   "cell_type": "code",
   "execution_count": 1,
   "metadata": {},
   "outputs": [],
   "source": [
    "from pyspark.sql import SparkSession\n",
    "\n",
    "spark = SparkSession.\\\n",
    "    builder.\\\n",
    "    config('spark.ui.port', '0').\\\n",
    "    appName('Airlines Analysis').\\\n",
    "    master('yarn').\\\n",
    "    getOrCreate()"
   ]
  },
  {
   "cell_type": "markdown",
   "metadata": {},
   "source": [
    "#### Reading Airlines dataset into a DF"
   ]
  },
  {
   "cell_type": "code",
   "execution_count": 3,
   "metadata": {},
   "outputs": [],
   "source": [
    "airlines_data_path = '/user/monahadoop/airlines_all/airlines0821'"
   ]
  },
  {
   "cell_type": "code",
   "execution_count": 4,
   "metadata": {},
   "outputs": [],
   "source": [
    "airport_codes_path = '/public/airlines_all/airport-codes'"
   ]
  },
  {
   "cell_type": "code",
   "execution_count": 5,
   "metadata": {},
   "outputs": [],
   "source": [
    "airlinesSchema = spark.read.\\\n",
    "                format('csv').\\\n",
    "                option('header', True).\\\n",
    "                option('inferSchema', True).\\\n",
    "                load(airlines_data_path + '/part-00000*').\\\n",
    "                schema"
   ]
  },
  {
   "cell_type": "code",
   "execution_count": 11,
   "metadata": {},
   "outputs": [
    {
     "data": {
      "text/plain": [
       "pyspark.sql.types.StructType"
      ]
     },
     "execution_count": 11,
     "metadata": {},
     "output_type": "execute_result"
    }
   ],
   "source": [
    "type(airlinesSchema)"
   ]
  },
  {
   "cell_type": "code",
   "execution_count": 6,
   "metadata": {},
   "outputs": [],
   "source": [
    "airlinesDF = spark.read.\\\n",
    "                format('csv').\\\n",
    "                schema(airlinesSchema).\\\n",
    "                option('header', True).\\\n",
    "                load(airlines_data_path)"
   ]
  },
  {
   "cell_type": "code",
   "execution_count": 6,
   "metadata": {},
   "outputs": [
    {
     "data": {
      "text/plain": [
       "999"
      ]
     },
     "execution_count": 6,
     "metadata": {},
     "output_type": "execute_result"
    }
   ],
   "source": [
    "airlinesDF.rdd.getNumPartitions() # executor on spark ui shows these many tasks"
   ]
  },
  {
   "cell_type": "code",
   "execution_count": 6,
   "metadata": {},
   "outputs": [
    {
     "name": "stdout",
     "output_type": "stream",
     "text": [
      "root\n",
      " |-- Year: integer (nullable = true)\n",
      " |-- Month: integer (nullable = true)\n",
      " |-- DayofMonth: integer (nullable = true)\n",
      " |-- DayOfWeek: integer (nullable = true)\n",
      " |-- DepTime: string (nullable = true)\n",
      " |-- CRSDepTime: integer (nullable = true)\n",
      " |-- ArrTime: string (nullable = true)\n",
      " |-- CRSArrTime: integer (nullable = true)\n",
      " |-- UniqueCarrier: string (nullable = true)\n",
      " |-- FlightNum: integer (nullable = true)\n",
      " |-- TailNum: string (nullable = true)\n",
      " |-- ActualElapsedTime: string (nullable = true)\n",
      " |-- CRSElapsedTime: integer (nullable = true)\n",
      " |-- AirTime: string (nullable = true)\n",
      " |-- ArrDelay: string (nullable = true)\n",
      " |-- DepDelay: string (nullable = true)\n",
      " |-- Origin: string (nullable = true)\n",
      " |-- Dest: string (nullable = true)\n",
      " |-- Distance: integer (nullable = true)\n",
      " |-- TaxiIn: string (nullable = true)\n",
      " |-- TaxiOut: string (nullable = true)\n",
      " |-- Cancelled: integer (nullable = true)\n",
      " |-- CancellationCode: string (nullable = true)\n",
      " |-- Diverted: integer (nullable = true)\n",
      " |-- CarrierDelay: string (nullable = true)\n",
      " |-- WeatherDelay: string (nullable = true)\n",
      " |-- NASDelay: string (nullable = true)\n",
      " |-- SecurityDelay: string (nullable = true)\n",
      " |-- LateAircraftDelay: string (nullable = true)\n",
      " |-- IsArrDelayed: string (nullable = true)\n",
      " |-- IsDepDelayed: string (nullable = true)\n",
      "\n"
     ]
    }
   ],
   "source": [
    "airlinesDF.printSchema()"
   ]
  },
  {
   "cell_type": "code",
   "execution_count": 8,
   "metadata": {},
   "outputs": [
    {
     "name": "stdout",
     "output_type": "stream",
     "text": [
      "+----+-----+----------+---------+-------+----------+-------+----------+-------------+---------+-------+-----------------+--------------+-------+--------+--------+------+----+--------+------+-------+---------+----------------+--------+------------+------------+--------+-------------+-----------------+------------+------------+\n",
      "|Year|Month|DayofMonth|DayOfWeek|DepTime|CRSDepTime|ArrTime|CRSArrTime|UniqueCarrier|FlightNum|TailNum|ActualElapsedTime|CRSElapsedTime|AirTime|ArrDelay|DepDelay|Origin|Dest|Distance|TaxiIn|TaxiOut|Cancelled|CancellationCode|Diverted|CarrierDelay|WeatherDelay|NASDelay|SecurityDelay|LateAircraftDelay|IsArrDelayed|IsDepDelayed|\n",
      "+----+-----+----------+---------+-------+----------+-------+----------+-------------+---------+-------+-----------------+--------------+-------+--------+--------+------+----+--------+------+-------+---------+----------------+--------+------------+------------+--------+-------------+-----------------+------------+------------+\n",
      "|2001|    8|         3|        5|   1048|      1047|   1210|      1222|           AA|     1056| N274A1|               82|            95|     66|     -12|       1|   MCI| ORD|     403|     6|     10|        0|              NA|       0|          NA|          NA|      NA|           NA|               NA|          NO|         YES|\n",
      "|2001|    8|         4|        6|   1043|      1047|   1159|      1222|           AA|     1056| N513A1|               76|            95|     61|     -23|      -4|   MCI| ORD|     403|     4|     11|        0|              NA|       0|          NA|          NA|      NA|           NA|               NA|          NO|          NO|\n",
      "|2001|    8|         5|        7|   1043|      1047|   1203|      1222|           AA|     1056| N532A1|               80|            95|     65|     -19|      -4|   MCI| ORD|     403|     6|      9|        0|              NA|       0|          NA|          NA|      NA|           NA|               NA|          NO|          NO|\n",
      "|2001|    8|         6|        1|   1045|      1047|   1159|      1222|           AA|     1056| N521A1|               74|            95|     62|     -23|      -2|   MCI| ORD|     403|     4|      8|        0|              NA|       0|          NA|          NA|      NA|           NA|               NA|          NO|          NO|\n",
      "|2001|    8|         7|        2|   1047|      1047|   1208|      1222|           AA|     1056| N417A1|               81|            95|     65|     -14|       0|   MCI| ORD|     403|     6|     10|        0|              NA|       0|          NA|          NA|      NA|           NA|               NA|          NO|          NO|\n",
      "+----+-----+----------+---------+-------+----------+-------+----------+-------------+---------+-------+-----------------+--------------+-------+--------+--------+------+----+--------+------+-------+---------+----------------+--------+------------+------------+--------+-------------+-----------------+------------+------------+\n",
      "only showing top 5 rows\n",
      "\n"
     ]
    }
   ],
   "source": [
    "airlinesDF.show(5)"
   ]
  },
  {
   "cell_type": "code",
   "execution_count": 7,
   "metadata": {},
   "outputs": [],
   "source": [
    "airportCodesDF = spark.read.\\\n",
    "                    format('csv').\\\n",
    "                    option('inferSchema', True).\\\n",
    "                    option('sep', '\\t').\\\n",
    "                    option('header', True).\\\n",
    "                    load(airport_codes_path)"
   ]
  },
  {
   "cell_type": "code",
   "execution_count": null,
   "metadata": {},
   "outputs": [],
   "source": [
    "%%sh\n",
    "hdfs dfs -ls /public/airlines_all/airport-codes"
   ]
  },
  {
   "cell_type": "code",
   "execution_count": null,
   "metadata": {},
   "outputs": [],
   "source": [
    "%%sh\n",
    "hdfs dfs -cat /public/airlines_all/airport-codes/airport-codes-na.txt | more"
   ]
  },
  {
   "cell_type": "code",
   "execution_count": 7,
   "metadata": {},
   "outputs": [
    {
     "name": "stdout",
     "output_type": "stream",
     "text": [
      "+-----------+-----+-------+----+\n",
      "|       City|State|Country|IATA|\n",
      "+-----------+-----+-------+----+\n",
      "| Abbotsford|   BC| Canada| YXX|\n",
      "|   Aberdeen|   SD|    USA| ABR|\n",
      "|    Abilene|   TX|    USA| ABI|\n",
      "|      Akron|   OH|    USA| CAK|\n",
      "|    Alamosa|   CO|    USA| ALS|\n",
      "|     Albany|   GA|    USA| ABY|\n",
      "|     Albany|   NY|    USA| ALB|\n",
      "|Albuquerque|   NM|    USA| ABQ|\n",
      "| Alexandria|   LA|    USA| AEX|\n",
      "|  Allentown|   PA|    USA| ABE|\n",
      "+-----------+-----+-------+----+\n",
      "only showing top 10 rows\n",
      "\n"
     ]
    }
   ],
   "source": [
    "airportCodesDF.show(10)"
   ]
  },
  {
   "cell_type": "markdown",
   "metadata": {},
   "source": [
    "#### DataFrame Transformations - Filtering, Aggregations, Sorting\n",
    "\n",
    "#### Problem 1 \n",
    "Get total number of flights as well as number of flights which are delayed in departure and number of flights delayed in arrival.\n",
    "* Output should contain 3 columns - FlightCount, DepDelayedCount, ArrDelayedCount\n",
    "\n",
    "#### Solution1"
   ]
  },
  {
   "cell_type": "code",
   "execution_count": 11,
   "metadata": {},
   "outputs": [],
   "source": [
    "from pyspark.sql.functions import col, lit, count, sum, expr\n",
    "airlinesOP = airlinesDF. \\\n",
    "    agg(count(lit(1)).alias(\"FlightCount\"),\n",
    "        sum(expr(\"CASE WHEN IsDepDelayed = 'YES' THEN 1 ELSE 0 END\")).alias(\"DepDelayedCount\"),\n",
    "        sum(expr(\"CASE WHEN IsArrDelayed = 'YES' THEN 1 ELSE 0 END\")).alias(\"ArrDelayedCount\")\n",
    "       )"
   ]
  },
  {
   "cell_type": "code",
   "execution_count": 11,
   "metadata": {},
   "outputs": [
    {
     "data": {
      "text/plain": [
       "1"
      ]
     },
     "execution_count": 11,
     "metadata": {},
     "output_type": "execute_result"
    }
   ],
   "source": [
    "#airlinesOP.rdd.getNumPartitions()"
   ]
  },
  {
   "cell_type": "code",
   "execution_count": 12,
   "metadata": {},
   "outputs": [],
   "source": [
    "#df = airlinesOP.repartition(16) # same effect ddin't improve anything"
   ]
  },
  {
   "cell_type": "code",
   "execution_count": 13,
   "metadata": {},
   "outputs": [
    {
     "data": {
      "text/plain": [
       "16"
      ]
     },
     "execution_count": 13,
     "metadata": {},
     "output_type": "execute_result"
    }
   ],
   "source": [
    "#df.rdd.getNumPartitions()"
   ]
  },
  {
   "cell_type": "code",
   "execution_count": 12,
   "metadata": {},
   "outputs": [
    {
     "name": "stdout",
     "output_type": "stream",
     "text": [
      "+-----------+---------------+---------------+\n",
      "|FlightCount|DepDelayedCount|ArrDelayedCount|\n",
      "+-----------+---------------+---------------+\n",
      "| 1235347780|      522956034|      604003720|\n",
      "+-----------+---------------+---------------+\n",
      "\n"
     ]
    }
   ],
   "source": [
    "airlinesOP.show()"
   ]
  },
  {
   "cell_type": "code",
   "execution_count": null,
   "metadata": {},
   "outputs": [],
   "source": []
  },
  {
   "cell_type": "markdown",
   "metadata": {},
   "source": [
    "#### Problem 2\n",
    "Get number of flights which are delayed in departure and number of flights delayed in arrival for each day along with number of flights departed for each day.\n",
    "* Output should contain 4 columns - FlightDate, FlightCount, DepDelayedCount, ArrDelayedCount\n",
    "* FlightDate should be of YYYY-MM-dd format.\n",
    "* Data should be sorted in ascending order by flightDate\n",
    "\n",
    "#### Solution2\n",
    "\n"
   ]
  },
  {
   "cell_type": "code",
   "execution_count": 13,
   "metadata": {},
   "outputs": [
    {
     "name": "stdout",
     "output_type": "stream",
     "text": [
      "root\n",
      " |-- Year: integer (nullable = true)\n",
      " |-- Month: integer (nullable = true)\n",
      " |-- DayofMonth: integer (nullable = true)\n",
      " |-- DayOfWeek: integer (nullable = true)\n",
      " |-- DepTime: string (nullable = true)\n",
      " |-- CRSDepTime: integer (nullable = true)\n",
      " |-- ArrTime: string (nullable = true)\n",
      " |-- CRSArrTime: integer (nullable = true)\n",
      " |-- UniqueCarrier: string (nullable = true)\n",
      " |-- FlightNum: integer (nullable = true)\n",
      " |-- TailNum: string (nullable = true)\n",
      " |-- ActualElapsedTime: string (nullable = true)\n",
      " |-- CRSElapsedTime: integer (nullable = true)\n",
      " |-- AirTime: string (nullable = true)\n",
      " |-- ArrDelay: string (nullable = true)\n",
      " |-- DepDelay: string (nullable = true)\n",
      " |-- Origin: string (nullable = true)\n",
      " |-- Dest: string (nullable = true)\n",
      " |-- Distance: string (nullable = true)\n",
      " |-- TaxiIn: string (nullable = true)\n",
      " |-- TaxiOut: string (nullable = true)\n",
      " |-- Cancelled: integer (nullable = true)\n",
      " |-- CancellationCode: string (nullable = true)\n",
      " |-- Diverted: integer (nullable = true)\n",
      " |-- CarrierDelay: string (nullable = true)\n",
      " |-- WeatherDelay: string (nullable = true)\n",
      " |-- NASDelay: string (nullable = true)\n",
      " |-- SecurityDelay: string (nullable = true)\n",
      " |-- LateAircraftDelay: string (nullable = true)\n",
      " |-- IsArrDelayed: string (nullable = true)\n",
      " |-- IsDepDelayed: string (nullable = true)\n",
      "\n"
     ]
    }
   ],
   "source": [
    "airlinesDF.printSchema()"
   ]
  },
  {
   "cell_type": "code",
   "execution_count": 5,
   "metadata": {},
   "outputs": [
    {
     "name": "stdout",
     "output_type": "stream",
     "text": [
      "root\n",
      " |-- FlightDate: string (nullable = false)\n",
      " |-- FlightCount: long (nullable = false)\n",
      " |-- DepDelayedCount: long (nullable = true)\n",
      " |-- ArrDelayedCount: long (nullable = true)\n",
      "\n",
      "+----------+-----------+---------------+---------------+\n",
      "|FlightDate|FlightCount|DepDelayedCount|ArrDelayedCount|\n",
      "+----------+-----------+---------------+---------------+\n",
      "|2001-04-22|     167310|          84170|          90450|\n",
      "|2001-11-16|     144780|          72330|          70920|\n",
      "|1994-12-17|     134760|          84230|          73770|\n",
      "|1987-11-11|     147780|          69790|          93380|\n",
      "|1999-01-16|     129010|          51130|          51380|\n",
      "|2000-11-13|     161850|          72380|          83530|\n",
      "|2003-11-06|     185580|          66490|          94400|\n",
      "|1994-03-01|     140920|          75260|          86500|\n",
      "|2007-04-29|     199979|          67010|          72340|\n",
      "|1999-11-18|     158410|          54000|          64080|\n",
      "|2008-10-26|     176910|          66470|          67550|\n",
      "|2008-11-19|     182500|          45390|          53720|\n",
      "|2008-04-20|     195670|          76070|          86910|\n",
      "|2000-09-23|     139970|          51850|          64130|\n",
      "|1988-09-07|     146440|          38620|          63200|\n",
      "|1988-09-24|     131220|          36820|          56670|\n",
      "|1991-05-24|     143039|          77099|          80379|\n",
      "|2008-12-03|     180190|          62180|          73210|\n",
      "|2003-02-22|     155149|          66090|          79390|\n",
      "|1992-07-31|     144830|          93400|          98810|\n",
      "+----------+-----------+---------------+---------------+\n",
      "only showing top 20 rows\n",
      "\n"
     ]
    }
   ],
   "source": [
    "from pyspark.sql.functions import concat_ws, col, lpad, sum, expr, lit, count\n",
    "\n",
    "df = airlinesDF.groupBy(concat_ws('-',col('Year'), lpad(col('Month'),2,'0'), lpad(col('DayofMonth'),2,'0')).alias('FlightDate')).\\\n",
    "    agg(count(lit(1)).alias('FlightCount'),\n",
    "        sum(expr('CASE WHEN IsDepDelayed = \"YES\" THEN 1 ELSE 0 END')).alias('DepDelayedCount'),\n",
    "        sum(expr('CASE WHEN IsArrDelayed = \"YES\" THEN 1 ELSE 0 END')).alias('ArrDelayedCount')\n",
    "       ).\\\n",
    "    orderBy('FlightDate')\n",
    "\n",
    "#df.printSchema()\n",
    "\n",
    "df.show()"
   ]
  },
  {
   "cell_type": "code",
   "execution_count": null,
   "metadata": {},
   "outputs": [],
   "source": []
  },
  {
   "cell_type": "markdown",
   "metadata": {},
   "source": [
    "#### Problem 3\n",
    "Get all the flights which are departed late but arrived early (IsArrDelayed is NO).\n",
    "* Output should contain - FlightCRSDepTime, UniqueCarrier, FlightNum, Origin, Dest, DepDelay, ArrDelay\n",
    "* FlightCRSDepTime need to be computed using Year, Month, DayOfMonth, CRSDepTime\n",
    "* FlightCRSDepTime should be displayed using YYYY-MM-dd HH:mm format.\n",
    "* Output should be sorted by FlightCRSDepTime and then by the difference between DepDelay and ArrDelay\n",
    "* Also get the count of such flights.\n",
    "\n",
    "#### Solution3"
   ]
  },
  {
   "cell_type": "code",
   "execution_count": null,
   "metadata": {},
   "outputs": [],
   "source": [
    "airlinesDF.printSchema()"
   ]
  },
  {
   "cell_type": "code",
   "execution_count": 7,
   "metadata": {},
   "outputs": [
    {
     "name": "stdout",
     "output_type": "stream",
     "text": [
      "+----------+-------------+---------+------+----+--------+--------+\n",
      "|CRSDepTime|UniqueCarrier|FlightNum|Origin|Dest|DepDelay|ArrDelay|\n",
      "+----------+-------------+---------+------+----+--------+--------+\n",
      "|      1047|           AA|     1056|   MCI| ORD|       1|     -12|\n",
      "|      1047|           AA|     1056|   MCI| ORD|      -4|     -23|\n",
      "|      1047|           AA|     1056|   MCI| ORD|      -4|     -19|\n",
      "|      1047|           AA|     1056|   MCI| ORD|      -2|     -23|\n",
      "|      1047|           AA|     1056|   MCI| ORD|       0|     -14|\n",
      "|      1047|           AA|     1056|   MCI| ORD|       0|     -19|\n",
      "|      1047|           AA|     1056|   MCI| ORD|       7|       2|\n",
      "|      1047|           AA|     1056|   MCI| ORD|       5|     -17|\n",
      "|      1047|           AA|     1056|   MCI| ORD|      -2|     -17|\n",
      "|      1047|           AA|     1056|   MCI| ORD|      35|      13|\n",
      "+----------+-------------+---------+------+----+--------+--------+\n",
      "only showing top 10 rows\n",
      "\n"
     ]
    }
   ],
   "source": [
    "airlinesDF.select('CRSDepTime', 'UniqueCarrier', 'FlightNum', 'Origin', 'Dest', 'DepDelay', 'ArrDelay').show(10)"
   ]
  },
  {
   "cell_type": "code",
   "execution_count": 9,
   "metadata": {},
   "outputs": [
    {
     "name": "stdout",
     "output_type": "stream",
     "text": [
      "+----+-----+----------+-------+\n",
      "|Year|Month|DayOfMonth|DepTime|\n",
      "+----+-----+----------+-------+\n",
      "|2008|    1|        23|    700|\n",
      "|2008|    1|        10|   1855|\n",
      "+----+-----+----------+-------+\n",
      "\n"
     ]
    }
   ],
   "source": [
    "#l = [(2008, 1, 23, 700),\n",
    "#     (2008, 1, 10, 1855),\n",
    "#    ]\n",
    "#df = spark.createDataFrame(l, \"Year INT, Month INT, DayOfMonth INT, DepTime INT\")\n",
    "#df.show()"
   ]
  },
  {
   "cell_type": "code",
   "execution_count": 9,
   "metadata": {},
   "outputs": [
    {
     "name": "stdout",
     "output_type": "stream",
     "text": [
      "+----------------+-------------+---------+------+----+--------+--------+\n",
      "|FlightCRSDepTime|UniqueCarrier|FlightNum|Origin|Dest|DepDelay|ArrDelay|\n",
      "+----------------+-------------+---------+------+----+--------+--------+\n",
      "| 1987-10-01 0015|           TW|      545|   DFW| SAT|       5|       0|\n",
      "| 1987-10-01 0015|           TW|      545|   DFW| SAT|       5|       0|\n",
      "| 1987-10-01 0015|           TW|      545|   DFW| SAT|       5|       0|\n",
      "| 1987-10-01 0015|           TW|      545|   DFW| SAT|       5|       0|\n",
      "| 1987-10-01 0015|           TW|      545|   DFW| SAT|       5|       0|\n",
      "| 1987-10-01 0015|           TW|      545|   DFW| SAT|       5|       0|\n",
      "| 1987-10-01 0015|           TW|      545|   DFW| SAT|       5|       0|\n",
      "| 1987-10-01 0015|           TW|      545|   DFW| SAT|       5|       0|\n",
      "| 1987-10-01 0015|           TW|      545|   DFW| SAT|       5|       0|\n",
      "| 1987-10-01 0015|           TW|      545|   DFW| SAT|       5|       0|\n",
      "| 1987-10-01 0030|           HP|      170|   LAS| ONT|       7|       0|\n",
      "| 1987-10-01 0030|           HP|      170|   LAS| ONT|       7|       0|\n",
      "| 1987-10-01 0030|           HP|      170|   LAS| ONT|       7|       0|\n",
      "| 1987-10-01 0030|           HP|      170|   LAS| ONT|       7|       0|\n",
      "| 1987-10-01 0030|           HP|      170|   LAS| ONT|       7|       0|\n",
      "| 1987-10-01 0030|           HP|      170|   LAS| ONT|       7|       0|\n",
      "| 1987-10-01 0030|           HP|      170|   LAS| ONT|       7|       0|\n",
      "| 1987-10-01 0030|           HP|      170|   LAS| ONT|       7|       0|\n",
      "| 1987-10-01 0030|           HP|      170|   LAS| ONT|       7|       0|\n",
      "| 1987-10-01 0030|           HP|      170|   LAS| ONT|       7|       0|\n",
      "+----------------+-------------+---------+------+----+--------+--------+\n",
      "only showing top 20 rows\n",
      "\n"
     ]
    }
   ],
   "source": [
    "from pyspark.sql.functions import lit, col, concat, lpad, sum, expr\n",
    "\n",
    "flightsFiltered = airlinesDF. \\\n",
    "    filter(\"IsDepDelayed = 'YES' AND IsArrDelayed = 'NO'\"). \\\n",
    "    select(concat(\"Year\", lit(\"-\"), \n",
    "                  lpad(\"Month\", 2, \"0\"), lit(\"-\"), \n",
    "                  lpad(\"DayOfMonth\", 2, \"0\"), lit(\" \"),\n",
    "                  lpad(\"CRSDepTime\", 4, \"0\")\n",
    "                 ).alias(\"FlightCRSDepTime\"),\n",
    "           \"UniqueCarrier\", \"FlightNum\", \"Origin\", \n",
    "           \"Dest\", \"DepDelay\", \"ArrDelay\"\n",
    "          ). \\\n",
    "    orderBy(\"FlightCRSDepTime\", col(\"DepDelay\") - col(\"ArrDelay\")). \\\n",
    "    show()"
   ]
  },
  {
   "cell_type": "code",
   "execution_count": 22,
   "metadata": {},
   "outputs": [
    {
     "name": "stdout",
     "output_type": "stream",
     "text": [
      "+----------------+-------------+---------+------+----+--------+--------+\n",
      "|FlightCRSDepTime|UniqueCarrier|FlightNum|Origin|Dest|DepDelay|ArrDelay|\n",
      "+----------------+-------------+---------+------+----+--------+--------+\n",
      "|1987-10-01 00:15|           TW|      545|   DFW| SAT|       5|       0|\n",
      "|1987-10-01 00:15|           TW|      545|   DFW| SAT|       5|       0|\n",
      "|1987-10-01 00:15|           TW|      545|   DFW| SAT|       5|       0|\n",
      "|1987-10-01 00:15|           TW|      545|   DFW| SAT|       5|       0|\n",
      "|1987-10-01 00:15|           TW|      545|   DFW| SAT|       5|       0|\n",
      "|1987-10-01 00:15|           TW|      545|   DFW| SAT|       5|       0|\n",
      "|1987-10-01 00:15|           TW|      545|   DFW| SAT|       5|       0|\n",
      "|1987-10-01 00:15|           TW|      545|   DFW| SAT|       5|       0|\n",
      "|1987-10-01 00:15|           TW|      545|   DFW| SAT|       5|       0|\n",
      "|1987-10-01 00:15|           TW|      545|   DFW| SAT|       5|       0|\n",
      "|1987-10-01 00:30|           HP|      170|   LAS| ONT|       7|       0|\n",
      "|1987-10-01 00:30|           HP|      170|   LAS| ONT|       7|       0|\n",
      "|1987-10-01 00:30|           HP|      170|   LAS| ONT|       7|       0|\n",
      "|1987-10-01 00:30|           HP|      170|   LAS| ONT|       7|       0|\n",
      "|1987-10-01 00:30|           HP|      170|   LAS| ONT|       7|       0|\n",
      "|1987-10-01 00:30|           HP|      170|   LAS| ONT|       7|       0|\n",
      "|1987-10-01 00:30|           HP|      170|   LAS| ONT|       7|       0|\n",
      "|1987-10-01 00:30|           HP|      170|   LAS| ONT|       7|       0|\n",
      "|1987-10-01 00:30|           HP|      170|   LAS| ONT|       7|       0|\n",
      "|1987-10-01 00:30|           HP|      170|   LAS| ONT|       7|       0|\n",
      "+----------------+-------------+---------+------+----+--------+--------+\n",
      "only showing top 20 rows\n",
      "\n"
     ]
    }
   ],
   "source": [
    "from pyspark.sql.functions import concat_ws, col, lpad, date_format, substring\n",
    "\n",
    "airlinesDF.filter(\"IsDepDelayed = 'YES' AND IsArrDelayed = 'NO'\"). \\\n",
    "            select(date_format(concat_ws(' ',(concat_ws('-', col('Year'),\n",
    "                     lpad(col('Month'), 2 ,'0'),\n",
    "                     lpad(col('DayOfMonth'), 2, '0'))),\n",
    "                     (concat_ws(':', substring(lpad(col('CRSDepTime'), 4, \"0\"), 0, 2), \n",
    "                                substring(col('CRSDepTime'), -2, 2)))\n",
    "                    ), 'YYYY-MM-dd HH:mm').alias('FlightCRSDepTime'), 'UniqueCarrier', 'FlightNum', 'Origin', 'Dest', 'DepDelay', 'ArrDelay'\n",
    "          ). \\\n",
    "            where(\"FlightCRSDepTime is Not NULL\"). \\\n",
    "orderBy('FlightCRSDepTime').show()"
   ]
  },
  {
   "cell_type": "code",
   "execution_count": null,
   "metadata": {},
   "outputs": [],
   "source": [
    "#from pyspark.sql.functions import col\n",
    "#airlinesDF.\\\n",
    "#    filter(\"IsDepDelayed = 'YES' AND IsArrDelayed = 'NO'\"). \\\n",
    "#    select('CRSDepTime','UniqueCarrier', 'FlightNum', 'Origin', 'Dest', 'DepDelay', 'ArrDelay').\\\n",
    "#    orderBy('CRSDepTime', (col('DepDelay')-col('ArrDelay'))).\\\n",
    "#    show()"
   ]
  },
  {
   "cell_type": "code",
   "execution_count": 27,
   "metadata": {},
   "outputs": [
    {
     "name": "stdout",
     "output_type": "stream",
     "text": [
      "+----------------+-------------+---------+------+----+--------+--------+\n",
      "|FlightCRSDepTime|UniqueCarrier|FlightNum|Origin|Dest|DepDelay|ArrDelay|\n",
      "+----------------+-------------+---------+------+----+--------+--------+\n",
      "|1987-10-01 00:15|           TW|      545|   DFW| SAT|       5|       0|\n",
      "|1987-10-01 00:15|           TW|      545|   DFW| SAT|       5|       0|\n",
      "|1987-10-01 00:15|           TW|      545|   DFW| SAT|       5|       0|\n",
      "|1987-10-01 00:15|           TW|      545|   DFW| SAT|       5|       0|\n",
      "|1987-10-01 00:15|           TW|      545|   DFW| SAT|       5|       0|\n",
      "|1987-10-01 00:15|           TW|      545|   DFW| SAT|       5|       0|\n",
      "|1987-10-01 00:15|           TW|      545|   DFW| SAT|       5|       0|\n",
      "|1987-10-01 00:15|           TW|      545|   DFW| SAT|       5|       0|\n",
      "|1987-10-01 00:15|           TW|      545|   DFW| SAT|       5|       0|\n",
      "|1987-10-01 00:15|           TW|      545|   DFW| SAT|       5|       0|\n",
      "|1987-10-01 00:30|           HP|      170|   LAS| ONT|       7|       0|\n",
      "|1987-10-01 00:30|           HP|      170|   LAS| ONT|       7|       0|\n",
      "|1987-10-01 00:30|           HP|      170|   LAS| ONT|       7|       0|\n",
      "|1987-10-01 00:30|           HP|      170|   LAS| ONT|       7|       0|\n",
      "|1987-10-01 00:30|           HP|      170|   LAS| ONT|       7|       0|\n",
      "|1987-10-01 00:30|           HP|      170|   LAS| ONT|       7|       0|\n",
      "|1987-10-01 00:30|           HP|      170|   LAS| ONT|       7|       0|\n",
      "|1987-10-01 00:30|           HP|      170|   LAS| ONT|       7|       0|\n",
      "|1987-10-01 00:30|           HP|      170|   LAS| ONT|       7|       0|\n",
      "|1987-10-01 00:30|           HP|      170|   LAS| ONT|       7|       0|\n",
      "+----------------+-------------+---------+------+----+--------+--------+\n",
      "only showing top 20 rows\n",
      "\n"
     ]
    }
   ],
   "source": [
    "from pyspark.sql.functions import concat_ws, col, lpad, date_format, substring\n",
    "airlinesDF.\\\n",
    "    filter((col('IsArrDelayed') == 'NO') & (col('IsDepDelayed') == 'YES')).\\\n",
    "    select(date_format(concat_ws(' ',(concat_ws('-', col('Year'),\n",
    "                     lpad(col('Month'), 2 ,'0'),\n",
    "                     lpad(col('DayOfMonth'), 2, '0'))),\n",
    "                     (concat_ws(':', substring(lpad(col('CRSDepTime'), 4, \"0\"), 0, 2), \n",
    "                                substring(col('CRSDepTime'), -2, 2)))\n",
    "                    ), 'YYYY-MM-dd HH:mm').alias('FlightCRSDepTime'),\n",
    "           'UniqueCarrier', 'FlightNum', 'Origin', 'Dest', 'DepDelay', 'ArrDelay'\n",
    "          ).\\\n",
    "            where(\"FlightCRSDepTime is Not NULL\"). \\\n",
    "    orderBy('FlightCRSDepTime', (col('DepDelay') - col('ArrDelay'))).\\\n",
    "show()"
   ]
  },
  {
   "cell_type": "markdown",
   "metadata": {},
   "source": [
    "#### Joining Dataframes\n",
    "\n",
    "* For below set of problems we need January 2008 Data.\n",
    "* Following line of code addresses this."
   ]
  },
  {
   "cell_type": "code",
   "execution_count": 10,
   "metadata": {},
   "outputs": [],
   "source": [
    "from pyspark.sql.functions import col, lpad\n",
    "\n",
    "Jan_2008_Data = airlinesDF.filter((col('Year') == '2008') & (lpad(col('Month'), 2, '0') == '01'))\n",
    "#Jan_2008_Data.show()"
   ]
  },
  {
   "cell_type": "markdown",
   "metadata": {},
   "source": [
    "#### Problem 4\n",
    "* Get number of flights departed from each of the airport in USA  for January 2008\n",
    "\n",
    "#### Solution 4"
   ]
  },
  {
   "cell_type": "code",
   "execution_count": 10,
   "metadata": {},
   "outputs": [],
   "source": [
    "from pyspark.sql.functions import col, count\n",
    "\n",
    "USA_airport_departed_count = airportCodesDF.filter((col('Country') == 'USA') & ((col('State') != 'Hawaii') | (col('IATA') != 'Big'))). \\\n",
    "                       join(Jan_2008_Data, airportCodesDF.IATA == Jan_2008_Data.Origin). \\\n",
    "                       groupBy(Jan_2008_Data.Origin). \\\n",
    "                       agg(count(Jan_2008_Data.Origin).alias('Flight_Count'))"
   ]
  },
  {
   "cell_type": "code",
   "execution_count": 11,
   "metadata": {},
   "outputs": [
    {
     "name": "stdout",
     "output_type": "stream",
     "text": [
      "+------+-------------+\n",
      "|Origin|count(Origin)|\n",
      "+------+-------------+\n",
      "|   BGM|          620|\n",
      "|   MSY|        34529|\n",
      "|   GEG|        13730|\n",
      "|   SNA|        42730|\n",
      "|   BUR|        27970|\n",
      "|   GRB|         6750|\n",
      "|   GTF|         2170|\n",
      "|   IDA|         3000|\n",
      "|   GRR|        12730|\n",
      "|   EUG|         5520|\n",
      "|   PVD|        19830|\n",
      "|   GSO|        10830|\n",
      "|   MYR|         3600|\n",
      "|   OAK|        59320|\n",
      "|   COD|          930|\n",
      "|   MSN|        11020|\n",
      "|   BTM|          620|\n",
      "|   FAR|         4020|\n",
      "|   FSM|         2400|\n",
      "|   MQT|          850|\n",
      "+------+-------------+\n",
      "only showing top 20 rows\n",
      "\n"
     ]
    }
   ],
   "source": [
    "USA_airport_departed_count.show()"
   ]
  },
  {
   "cell_type": "code",
   "execution_count": null,
   "metadata": {},
   "outputs": [],
   "source": []
  },
  {
   "cell_type": "markdown",
   "metadata": {},
   "source": [
    "#### Problem 5\n",
    "* Get number of flights departed from each of the state in USA for January 2008\n",
    "\n",
    "#### Solution 5"
   ]
  },
  {
   "cell_type": "code",
   "execution_count": 21,
   "metadata": {},
   "outputs": [],
   "source": [
    "from pyspark.sql.functions import col, count, lit\n",
    "\n",
    "USA_state_departed_count = airportCodesDF.filter((col('Country') == 'USA') & ((col('State') != 'Hawaii') | (col('IATA') != 'Big'))). \\\n",
    "                            join(Jan_2008_Data, airportCodesDF.IATA == Jan_2008_Data.Origin). \\\n",
    "                            groupBy(airportCodesDF.State). \\\n",
    "                            agg(count(lit(1)).alias('Flight_Count'))"
   ]
  },
  {
   "cell_type": "code",
   "execution_count": 22,
   "metadata": {},
   "outputs": [
    {
     "name": "stdout",
     "output_type": "stream",
     "text": [
      "+-----+------------+\n",
      "|State|Flight_Count|\n",
      "+-----+------------+\n",
      "|   AZ|      207679|\n",
      "|   SC|       35250|\n",
      "|   LA|       58839|\n",
      "|   MN|      123570|\n",
      "|   NJ|      124979|\n",
      "|   OR|       62210|\n",
      "|   VA|       40930|\n",
      "| null|      140900|\n",
      "|   RI|       19830|\n",
      "|   KY|       27770|\n",
      "|   WY|        6860|\n",
      "|   NH|       16219|\n",
      "|   MI|      178240|\n",
      "|   NV|      177629|\n",
      "|   WI|       53560|\n",
      "|   ID|       24970|\n",
      "|   CA|      728529|\n",
      "|   CT|       27290|\n",
      "|   NE|       25470|\n",
      "|   MT|       17340|\n",
      "+-----+------------+\n",
      "only showing top 20 rows\n",
      "\n"
     ]
    }
   ],
   "source": [
    "USA_state_departed_count.show()"
   ]
  },
  {
   "cell_type": "markdown",
   "metadata": {},
   "source": [
    "#### Problem 6\n",
    "* Get the list of airports in the USA from which flights are not departed for January 2008\n",
    "\n",
    "#### Solution 6"
   ]
  },
  {
   "cell_type": "code",
   "execution_count": 19,
   "metadata": {},
   "outputs": [],
   "source": [
    "from pyspark.sql.functions import col\n",
    "\n",
    "airports_noflight_departed = airportCodesDF.filter((col('Country') == 'USA') & ((col('State') != 'Hawaii') | (col('IATA') != 'Big'))). \\\n",
    "                                join(Jan_2008_Data, airportCodesDF.IATA == Jan_2008_Data.Origin, 'LEFT'). \\\n",
    "                                filter(\"Origin IS NULL\"). \\\n",
    "                                select('City', 'State', 'Country')"
   ]
  },
  {
   "cell_type": "code",
   "execution_count": 20,
   "metadata": {},
   "outputs": [
    {
     "name": "stdout",
     "output_type": "stream",
     "text": [
      "+-------------------+-----+-------+\n",
      "|               City|State|Country|\n",
      "+-------------------+-----+-------+\n",
      "|            Lebanon|   NH|    USA|\n",
      "|         Dillingham|   AK|    USA|\n",
      "|International Falls|   MN|    USA|\n",
      "|         Wolf Point|   MT|    USA|\n",
      "|              Havre|   MT|    USA|\n",
      "|         Fort Dodge|   IA|    USA|\n",
      "|              Homer|   AK|    USA|\n",
      "|         Greenbrier|   WV|    USA|\n",
      "|             Joplin|   MO|    USA|\n",
      "|          Watertown|   SD|    USA|\n",
      "|            Kearney|   NE|    USA|\n",
      "|           Rockland|   ME|    USA|\n",
      "|           Escanaba|   MI|    USA|\n",
      "|            Kingman|   AZ|    USA|\n",
      "|           Columbus|   NE|    USA|\n",
      "|       Saranac Lake|   NY|    USA|\n",
      "|             Laurel|   MS|    USA|\n",
      "|   Sault Ste. Marie|   MI|    USA|\n",
      "|  Lanai City, Lanai|   HI|    USA|\n",
      "|        Silver City|   NM|    USA|\n",
      "+-------------------+-----+-------+\n",
      "only showing top 20 rows\n",
      "\n"
     ]
    }
   ],
   "source": [
    "airports_noflight_departed.show()"
   ]
  },
  {
   "cell_type": "markdown",
   "metadata": {},
   "source": [
    "#### Problem 7\n",
    "* Check if there are any origins in airlines data which do not have record in airport-codes for January 2008\n",
    "\n",
    "#### Solution 7"
   ]
  },
  {
   "cell_type": "code",
   "execution_count": 15,
   "metadata": {},
   "outputs": [],
   "source": [
    "no_airport_codes = airportCodesDF. \\\n",
    "                    join(Jan_2008_Data, airportCodesDF.IATA == Jan_2008_Data.Origin, 'RIGHT'). \\\n",
    "                    filter(\"IATA IS NULL\"). \\\n",
    "                    select('Origin').distinct()"
   ]
  },
  {
   "cell_type": "code",
   "execution_count": 16,
   "metadata": {},
   "outputs": [
    {
     "name": "stdout",
     "output_type": "stream",
     "text": [
      "+------+\n",
      "|Origin|\n",
      "+------+\n",
      "|   PSE|\n",
      "|   PSG|\n",
      "|   SCC|\n",
      "|   ADK|\n",
      "|   CEC|\n",
      "|   CDC|\n",
      "|   SJU|\n",
      "|   ITO|\n",
      "|   SLE|\n",
      "|   STX|\n",
      "|   HDN|\n",
      "|   BQN|\n",
      "|   KOA|\n",
      "|   OTZ|\n",
      "|   PMD|\n",
      "|   STT|\n",
      "+------+\n",
      "\n"
     ]
    }
   ],
   "source": [
    "no_airport_codes.show()"
   ]
  },
  {
   "cell_type": "markdown",
   "metadata": {},
   "source": [
    "#### Problem 8\n",
    "* Get the total number of flights from the airports that do not contain entries in airport-codes for January 2008\n",
    "\n",
    "#### Solution 8"
   ]
  },
  {
   "cell_type": "code",
   "execution_count": 13,
   "metadata": {},
   "outputs": [],
   "source": [
    "from pyspark.sql.functions import count, lit\n",
    "\n",
    "noAirportCodes_FlightCount = airportCodesDF. \\\n",
    "                                join(Jan_2008_Data, airportCodesDF.IATA == Jan_2008_Data.Origin, 'RIGHT'). \\\n",
    "                                filter(\"IATA IS NULL\"). \\\n",
    "                                agg(count(lit(1)).alias('Flight_Count'))"
   ]
  },
  {
   "cell_type": "code",
   "execution_count": 14,
   "metadata": {},
   "outputs": [
    {
     "name": "stdout",
     "output_type": "stream",
     "text": [
      "+------------+\n",
      "|Flight_Count|\n",
      "+------------+\n",
      "|       55850|\n",
      "+------------+\n",
      "\n"
     ]
    }
   ],
   "source": [
    "noAirportCodes_FlightCount.show()"
   ]
  },
  {
   "cell_type": "markdown",
   "metadata": {},
   "source": [
    "#### Problem 9\n",
    "* Get the total number of flights per airport that do not contain entries in airport-codes for January 2008\n",
    "\n",
    "#### Solution 9"
   ]
  },
  {
   "cell_type": "code",
   "execution_count": 17,
   "metadata": {},
   "outputs": [],
   "source": [
    "from pyspark.sql.functions import count, lit\n",
    "\n",
    "flights_per_airport_count = Jan_2008_Data. \\\n",
    "                                join(airportCodesDF, airportCodesDF.IATA == Jan_2008_Data.Origin, 'LEFT'). \\\n",
    "                                filter(\"IATA IS NULL\"). \\\n",
    "                                groupBy('Origin'). \\\n",
    "                                agg(count(lit(1)).alias('Flight_Count'))"
   ]
  },
  {
   "cell_type": "code",
   "execution_count": 1,
   "metadata": {},
   "outputs": [
    {
     "ename": "NameError",
     "evalue": "name 'flights_per_airport_count' is not defined",
     "output_type": "error",
     "traceback": [
      "\u001b[0;31m---------------------------------------------------------------------------\u001b[0m",
      "\u001b[0;31mNameError\u001b[0m                                 Traceback (most recent call last)",
      "\u001b[0;32m<ipython-input-1-412422d82dff>\u001b[0m in \u001b[0;36m<module>\u001b[0;34m\u001b[0m\n\u001b[0;32m----> 1\u001b[0;31m \u001b[0mflights_per_airport_count\u001b[0m\u001b[0;34m.\u001b[0m\u001b[0mshow\u001b[0m\u001b[0;34m(\u001b[0m\u001b[0;34m)\u001b[0m\u001b[0;34m\u001b[0m\u001b[0;34m\u001b[0m\u001b[0m\n\u001b[0m",
      "\u001b[0;31mNameError\u001b[0m: name 'flights_per_airport_count' is not defined"
     ]
    }
   ],
   "source": [
    "flights_per_airport_count.show()"
   ]
  },
  {
   "cell_type": "markdown",
   "metadata": {},
   "source": [
    "#### Windowing Functions¶\n",
    "\n",
    "* For below set of problems we need January 2008 Data.\n",
    "* Following line of code addresses this."
   ]
  },
  {
   "cell_type": "code",
   "execution_count": 9,
   "metadata": {},
   "outputs": [
    {
     "name": "stdout",
     "output_type": "stream",
     "text": [
      "+----+-----+----------+---------+-------+----------+-------+----------+-------------+---------+-------+-----------------+--------------+-------+--------+--------+------+----+--------+------+-------+---------+----------------+--------+------------+------------+--------+-------------+-----------------+------------+------------+\n",
      "|Year|Month|DayofMonth|DayOfWeek|DepTime|CRSDepTime|ArrTime|CRSArrTime|UniqueCarrier|FlightNum|TailNum|ActualElapsedTime|CRSElapsedTime|AirTime|ArrDelay|DepDelay|Origin|Dest|Distance|TaxiIn|TaxiOut|Cancelled|CancellationCode|Diverted|CarrierDelay|WeatherDelay|NASDelay|SecurityDelay|LateAircraftDelay|IsArrDelayed|IsDepDelayed|\n",
      "+----+-----+----------+---------+-------+----------+-------+----------+-------------+---------+-------+-----------------+--------------+-------+--------+--------+------+----+--------+------+-------+---------+----------------+--------+------------+------------+--------+-------------+-----------------+------------+------------+\n",
      "|2008|    1|        21|        1|    715|       625|    911|       805|           WN|     3241| N679AA|              176|           160|    145|      66|      50|   MHT| MDW|     838|    18|     13|        0|            null|       0|          50|           0|      16|            0|                0|         YES|         YES|\n",
      "|2008|    1|        21|        1|   1834|      1810|   2032|      1945|           WN|     3413| N366SW|              178|           155|    162|      47|      24|   MHT| MDW|     838|     6|     10|        0|            null|       0|          15|           0|      23|            0|                9|         YES|         YES|\n",
      "|2008|    1|        21|        1|   1406|      1405|   1527|      1535|           WN|       54| N510SW|               81|            90|     67|      -8|       1|   MHT| PHL|     290|     3|     11|        0|            null|       0|          NA|          NA|      NA|           NA|               NA|          NO|         YES|\n",
      "|2008|    1|        21|        1|    633|       635|    754|       805|           WN|     1368| N327SW|               81|            90|     64|     -11|      -2|   MHT| PHL|     290|     7|     10|        0|            null|       0|          NA|          NA|      NA|           NA|               NA|          NO|          NO|\n",
      "|2008|    1|        21|        1|   1236|      1230|   1351|      1355|           WN|     1375| N501SW|               75|            85|     63|      -4|       6|   MHT| PHL|     290|     6|      6|        0|            null|       0|          NA|          NA|      NA|           NA|               NA|          NO|         YES|\n",
      "|2008|    1|        21|        1|    910|       905|   1021|      1035|           WN|     1419| N528SW|               71|            90|     61|     -14|       5|   MHT| PHL|     290|     3|      7|        0|            null|       0|          NA|          NA|      NA|           NA|               NA|          NO|         YES|\n",
      "|2008|    1|        21|        1|   1923|      1915|   2041|      2045|           WN|     2115| N501SW|               78|            90|     64|      -4|       8|   MHT| PHL|     290|     4|     10|        0|            null|       0|          NA|          NA|      NA|           NA|               NA|          NO|         YES|\n",
      "|2008|    1|        21|        1|   1659|      1645|   1825|      1815|           WN|     2133| N327SW|               86|            90|     67|      10|      14|   MHT| PHL|     290|    11|      8|        0|            null|       0|          NA|          NA|      NA|           NA|               NA|         YES|         YES|\n",
      "|2008|    1|        21|        1|   1507|      1505|   1849|      1900|           WN|     3915| N222WN|              342|           355|    327|     -11|       2|   MHT| PHX|    2279|     6|      9|        0|            null|       0|          NA|          NA|      NA|           NA|               NA|          NO|         YES|\n",
      "|2008|    1|        21|        1|   1655|      1650|   2006|      2025|           WN|      300| N429WN|              191|           215|    179|     -19|       5|   MHT| TPA|    1204|     4|      8|        0|            null|       0|          NA|          NA|      NA|           NA|               NA|          NO|         YES|\n",
      "|2008|    1|        21|        1|    738|       735|   1054|      1105|           WN|      806| N424WN|              196|           210|    183|     -11|       3|   MHT| TPA|    1204|     4|      9|        0|            null|       0|          NA|          NA|      NA|           NA|               NA|          NO|         YES|\n",
      "|2008|    1|        21|        1|   2014|      1935|   2110|      2050|           WN|      217| N672SW|               56|            75|     46|      20|      39|   MSY| BHM|     321|     2|      8|        0|            null|       0|           0|           0|       0|            0|               20|         YES|         YES|\n",
      "|2008|    1|        21|        1|    736|       740|    829|       855|           WN|      621| N296WN|               53|            75|     44|     -26|      -4|   MSY| BHM|     321|     2|      7|        0|            null|       0|          NA|          NA|      NA|           NA|               NA|          NO|          NO|\n",
      "|2008|    1|        21|        1|   1144|      1145|   1241|      1300|           WN|     1357| N786SW|               57|            75|     47|     -19|      -1|   MSY| BHM|     321|     3|      7|        0|            null|       0|          NA|          NA|      NA|           NA|               NA|          NO|          NO|\n",
      "|2008|    1|        21|        1|    700|       705|    814|       825|           WN|     1531| N713SW|               74|            80|     65|     -11|      -5|   MSY| BNA|     471|     4|      5|        0|            null|       0|          NA|          NA|      NA|           NA|               NA|          NO|          NO|\n",
      "|2008|    1|        21|        1|   1605|      1610|   1728|      1735|           WN|     3307| N766SW|               83|            85|     65|      -7|      -5|   MSY| BNA|     471|     4|     14|        0|            null|       0|          NA|          NA|      NA|           NA|               NA|          NO|          NO|\n",
      "|2008|    1|        21|        1|    711|       715|   1018|      1030|           WN|     1589| N244WN|              127|           135|    119|     -12|      -4|   MSY| BWI|     998|     2|      6|        0|            null|       0|          NA|          NA|      NA|           NA|               NA|          NO|          NO|\n",
      "|2008|    1|        21|        1|    850|       850|   1009|      1015|           WN|     1150| N689SW|               79|            85|     70|      -6|       0|   MSY| DAL|     437|     3|      6|        0|            null|       0|          NA|          NA|      NA|           NA|               NA|          NO|          NO|\n",
      "|2008|    1|        21|        1|   1730|      1735|   1909|      1900|           WN|     1360| N244WN|               99|            85|     82|       9|      -5|   MSY| DAL|     437|     4|     13|        0|            null|       0|          NA|          NA|      NA|           NA|               NA|         YES|          NO|\n",
      "|2008|    1|        21|        1|   1308|      1110|   1436|      1235|           WN|     1376| N247WN|               88|            85|     71|     121|     118|   MSY| DAL|     437|    10|      7|        0|            null|       0|           0|           0|       3|            0|              118|         YES|         YES|\n",
      "+----+-----+----------+---------+-------+----------+-------+----------+-------------+---------+-------+-----------------+--------------+-------+--------+--------+------+----+--------+------+-------+---------+----------------+--------+------------+------------+--------+-------------+-----------------+------------+------------+\n",
      "only showing top 20 rows\n",
      "\n"
     ]
    }
   ],
   "source": [
    "from pyspark.sql.functions import col, lpad\n",
    "\n",
    "Jan_2008_Data = airlinesDF.filter((col('Year') == '2008') & (lpad(col('Month'), 2, '0') == '01'))\n",
    "#Jan_2008_Data.show()"
   ]
  },
  {
   "cell_type": "markdown",
   "metadata": {},
   "source": [
    "#### Problem 10\n",
    "\n",
    "* Get total departure delay, minimum departure delay, maximum departure delay and average departure delay for each day for each airport for January 2008.\n",
    "\n",
    "#### Solution 10"
   ]
  },
  {
   "cell_type": "code",
   "execution_count": 29,
   "metadata": {},
   "outputs": [],
   "source": [
    "from pyspark.sql.functions import col, lit, lpad, concat_ws, date_format, substring"
   ]
  },
  {
   "cell_type": "code",
   "execution_count": 23,
   "metadata": {},
   "outputs": [],
   "source": [
    "from pyspark.sql.functions import min, max, sum, avg"
   ]
  },
  {
   "cell_type": "code",
   "execution_count": 24,
   "metadata": {},
   "outputs": [],
   "source": [
    "from pyspark.sql.window import Window"
   ]
  },
  {
   "cell_type": "code",
   "execution_count": 33,
   "metadata": {},
   "outputs": [],
   "source": [
    "spec = Window. \\\n",
    "    partitionBy('FlightCRSDepDate', 'Origin')"
   ]
  },
  {
   "cell_type": "code",
   "execution_count": 34,
   "metadata": {},
   "outputs": [],
   "source": [
    "dep_delay_data = Jan_2008_Data. \\\n",
    "                    filter((col('IsDepDelayed') == 'YES') & (col('Cancelled') == 0)). \\\n",
    "                    select(date_format(concat_ws('-', col('Year'),\n",
    "                                 lpad(col('Month'), 2 ,'0'),\n",
    "                                 lpad(col('DayOfMonth'), 2, '0')), 'YYYY-MM-dd').alias('FlightCRSDepDate'),\n",
    "                          'Origin', \n",
    "                          'UniqueCarrier',\n",
    "                          'FlightNum', \n",
    "                           concat_ws(':', substring(lpad(col('CRSDepTime'), 4, \"0\"), 0, 2), \n",
    "                                            substring(col('CRSDepTime'), -2, 2)).alias('FlightCRSDepTime'),\n",
    "                           'IsDepDelayed',\n",
    "                           'DepDelay'    \n",
    "                          ). \\\n",
    "                    withColumn('DepDelay',col('DepDelay').cast('int')). \\\n",
    "                    withColumn('Min_Dep_Delay', min('DepDelay').over(spec)). \\\n",
    "                    withColumn('Max_Dep_Delay', max('DepDelay').over(spec)). \\\n",
    "                    withColumn('Avg_Dep_Delay', avg('DepDelay').over(spec)). \\\n",
    "                    withColumn('Min_Dep_Delay', min('DepDelay').over(spec)). \\\n",
    "                    withColumn('Total_Dep_Delay', sum('DepDelay').over(spec)). \\\n",
    "                    orderBy('FlightCRSDepDate', 'Origin', 'DepDelay')"
   ]
  },
  {
   "cell_type": "code",
   "execution_count": 35,
   "metadata": {},
   "outputs": [
    {
     "name": "stdout",
     "output_type": "stream",
     "text": [
      "+----------------+------+-------------+---------+----------------+------------+--------+-------------+-------------+-------------+---------------+\n",
      "|FlightCRSDepDate|Origin|UniqueCarrier|FlightNum|FlightCRSDepTime|IsDepDelayed|DepDelay|Min_Dep_Delay|Max_Dep_Delay|Avg_Dep_Delay|Total_Dep_Delay|\n",
      "+----------------+------+-------------+---------+----------------+------------+--------+-------------+-------------+-------------+---------------+\n",
      "|      2008-01-01|   ABE|           OO|     5873|           07:20|         YES|       1|            1|          175|       60.875|           4870|\n",
      "|      2008-01-01|   ABE|           OO|     5873|           07:20|         YES|       1|            1|          175|       60.875|           4870|\n",
      "|      2008-01-01|   ABE|           OO|     5873|           07:20|         YES|       1|            1|          175|       60.875|           4870|\n",
      "|      2008-01-01|   ABE|           OO|     5873|           07:20|         YES|       1|            1|          175|       60.875|           4870|\n",
      "|      2008-01-01|   ABE|           OO|     5873|           07:20|         YES|       1|            1|          175|       60.875|           4870|\n",
      "|      2008-01-01|   ABE|           OO|     5873|           07:20|         YES|       1|            1|          175|       60.875|           4870|\n",
      "|      2008-01-01|   ABE|           OO|     5873|           07:20|         YES|       1|            1|          175|       60.875|           4870|\n",
      "|      2008-01-01|   ABE|           OO|     5873|           07:20|         YES|       1|            1|          175|       60.875|           4870|\n",
      "|      2008-01-01|   ABE|           OO|     5873|           07:20|         YES|       1|            1|          175|       60.875|           4870|\n",
      "|      2008-01-01|   ABE|           OO|     5873|           07:20|         YES|       1|            1|          175|       60.875|           4870|\n",
      "|      2008-01-01|   ABE|           OH|     5457|           17:20|         YES|      14|            1|          175|       60.875|           4870|\n",
      "|      2008-01-01|   ABE|           OH|     5457|           17:20|         YES|      14|            1|          175|       60.875|           4870|\n",
      "|      2008-01-01|   ABE|           OH|     5457|           17:20|         YES|      14|            1|          175|       60.875|           4870|\n",
      "|      2008-01-01|   ABE|           OH|     5457|           17:20|         YES|      14|            1|          175|       60.875|           4870|\n",
      "|      2008-01-01|   ABE|           OH|     5457|           17:20|         YES|      14|            1|          175|       60.875|           4870|\n",
      "|      2008-01-01|   ABE|           OH|     5457|           17:20|         YES|      14|            1|          175|       60.875|           4870|\n",
      "|      2008-01-01|   ABE|           OH|     5457|           17:20|         YES|      14|            1|          175|       60.875|           4870|\n",
      "|      2008-01-01|   ABE|           OH|     5457|           17:20|         YES|      14|            1|          175|       60.875|           4870|\n",
      "|      2008-01-01|   ABE|           OH|     5457|           17:20|         YES|      14|            1|          175|       60.875|           4870|\n",
      "|      2008-01-01|   ABE|           OH|     5457|           17:20|         YES|      14|            1|          175|       60.875|           4870|\n",
      "+----------------+------+-------------+---------+----------------+------------+--------+-------------+-------------+-------------+---------------+\n",
      "only showing top 20 rows\n",
      "\n"
     ]
    }
   ],
   "source": [
    "dep_delay_data.show()"
   ]
  },
  {
   "cell_type": "code",
   "execution_count": null,
   "metadata": {},
   "outputs": [],
   "source": []
  },
  {
   "cell_type": "code",
   "execution_count": null,
   "metadata": {},
   "outputs": [],
   "source": []
  }
 ],
 "metadata": {
  "kernelspec": {
   "display_name": "Pyspark 2",
   "language": "python",
   "name": "pyspark2"
  },
  "language_info": {
   "codemirror_mode": {
    "name": "ipython",
    "version": 3
   },
   "file_extension": ".py",
   "mimetype": "text/x-python",
   "name": "python",
   "nbconvert_exporter": "python",
   "pygments_lexer": "ipython3",
   "version": "3.6.8"
  }
 },
 "nbformat": 4,
 "nbformat_minor": 4
}
